{
 "cells": [
  {
   "cell_type": "markdown",
   "metadata": {
    "id": "FDbRWyvFguRc"
   },
   "source": [
    "<center><a href=\"https://www.nvidia.com/en-us/training/\"><img src=\"https://dli-lms.s3.amazonaws.com/assets/general/DLI_Header_White.png\" width=\"400\" height=\"186\" /></a></center>"
   ]
  },
  {
   "cell_type": "markdown",
   "metadata": {
    "id": "8U3dZ6VIZEUn"
   },
   "source": [
    "<br>\n",
    "\n",
    "# <font color=\"#76b900\" style=\"text-align:center;\">**Notebook 6.4:** Semantic Guardrailing</font>\n",
    "\n",
    "<br>\n",
    "\n",
    "This notebook is a direct continuation of the material in **Notebook 6: Embedding Models and Semantic Reasoning**. However, due to its length and deviation from the main topic, it has been sectioned off into its own notebook.\n",
    "\n",
    "<br>\n",
    "\n",
    "### **Environment Setup:**"
   ]
  },
  {
   "cell_type": "code",
   "execution_count": 1,
   "metadata": {
    "id": "mo36Q8zRZ5i_"
   },
   "outputs": [],
   "source": [
    "## Necessary for Colab, not necessary for course environment\n",
    "# %pip install -qq langchain langchain-nvidia-ai-endpoints gradio\n",
    "\n",
    "# import os\n",
    "# os.environ[\"NVIDIA_API_KEY\"] = \"nvapi-...\"\n",
    "\n",
    "## If you encounter a typing-extensions issue, restart your runtime and try again\n",
    "# from langchain_nvidia_ai_endpoints import ChatNVIDIA\n",
    "# ChatNVIDIA.get_available_models()\n",
    "\n",
    "from functools import partial\n",
    "from rich.console import Console\n",
    "from rich.style import Style\n",
    "from rich.theme import Theme\n",
    "\n",
    "console = Console()\n",
    "base_style = Style(color=\"#76B900\", bold=True)\n",
    "pprint = partial(console.print, style=base_style)"
   ]
  },
  {
   "cell_type": "code",
   "execution_count": 2,
   "metadata": {},
   "outputs": [
    {
     "name": "stderr",
     "output_type": "stream",
     "text": [
      "/usr/local/lib/python3.11/site-packages/langchain_nvidia_ai_endpoints/_common.py:229: UserWarning: Default model is set as: 01-ai/yi-large. \n",
      "Set model using model parameter. \n",
      "To get available models use available_models property.\n",
      "  warnings.warn(\n"
     ]
    },
    {
     "data": {
      "text/plain": [
       "[Model(id='01-ai/yi-large', model_type='chat', client='ChatNVIDIA', endpoint=None, aliases=['ai-yi-large'], supports_tools=False, supports_structured_output=False, base_model=None),\n",
       " Model(id='abacusai/dracarys-llama-3.1-70b-instruct', model_type=None, client=None, endpoint=None, aliases=None, supports_tools=False, supports_structured_output=False, base_model=None),\n",
       " Model(id='ai21labs/jamba-1.5-large-instruct', model_type=None, client=None, endpoint=None, aliases=None, supports_tools=False, supports_structured_output=False, base_model=None),\n",
       " Model(id='ai21labs/jamba-1.5-mini-instruct', model_type=None, client=None, endpoint=None, aliases=None, supports_tools=False, supports_structured_output=False, base_model=None),\n",
       " Model(id='aisingapore/sea-lion-7b-instruct', model_type='chat', client='ChatNVIDIA', endpoint=None, aliases=['ai-sea-lion-7b-instruct'], supports_tools=False, supports_structured_output=False, base_model=None),\n",
       " Model(id='baichuan-inc/baichuan2-13b-chat', model_type=None, client=None, endpoint=None, aliases=None, supports_tools=False, supports_structured_output=False, base_model=None),\n",
       " Model(id='databricks/dbrx-instruct', model_type='chat', client='ChatNVIDIA', endpoint=None, aliases=['ai-dbrx-instruct'], supports_tools=False, supports_structured_output=False, base_model=None),\n",
       " Model(id='deepseek-ai/deepseek-coder-6.7b-instruct', model_type='chat', client='ChatNVIDIA', endpoint=None, aliases=['ai-deepseek-coder-6_7b-instruct'], supports_tools=False, supports_structured_output=False, base_model=None),\n",
       " Model(id='google/codegemma-1.1-7b', model_type='chat', client='ChatNVIDIA', endpoint=None, aliases=['ai-codegemma-1.1-7b'], supports_tools=False, supports_structured_output=False, base_model=None),\n",
       " Model(id='google/codegemma-7b', model_type='chat', client='ChatNVIDIA', endpoint=None, aliases=['ai-codegemma-7b'], supports_tools=False, supports_structured_output=False, base_model=None),\n",
       " Model(id='google/gemma-2-27b-it', model_type='chat', client='ChatNVIDIA', endpoint=None, aliases=['ai-gemma-2-27b-it'], supports_tools=False, supports_structured_output=False, base_model=None),\n",
       " Model(id='google/gemma-2-2b-it', model_type='chat', client='ChatNVIDIA', endpoint=None, aliases=None, supports_tools=False, supports_structured_output=False, base_model=None),\n",
       " Model(id='google/gemma-2-9b-it', model_type='chat', client='ChatNVIDIA', endpoint=None, aliases=['ai-gemma-2-9b-it'], supports_tools=False, supports_structured_output=False, base_model=None),\n",
       " Model(id='google/gemma-7b', model_type='chat', client='ChatNVIDIA', endpoint=None, aliases=['ai-gemma-7b', 'playground_gemma_7b', 'gemma_7b'], supports_tools=False, supports_structured_output=False, base_model=None),\n",
       " Model(id='google/recurrentgemma-2b', model_type='chat', client='ChatNVIDIA', endpoint=None, aliases=['ai-recurrentgemma-2b'], supports_tools=False, supports_structured_output=False, base_model=None),\n",
       " Model(id='google/shieldgemma-9b', model_type=None, client=None, endpoint=None, aliases=None, supports_tools=False, supports_structured_output=False, base_model=None),\n",
       " Model(id='ibm/granite-3.0-3b-a800m-instruct', model_type=None, client=None, endpoint=None, aliases=None, supports_tools=False, supports_structured_output=False, base_model=None),\n",
       " Model(id='ibm/granite-3.0-8b-instruct', model_type=None, client=None, endpoint=None, aliases=None, supports_tools=False, supports_structured_output=False, base_model=None),\n",
       " Model(id='ibm/granite-34b-code-instruct', model_type='chat', client='ChatNVIDIA', endpoint=None, aliases=['ai-granite-34b-code-instruct'], supports_tools=False, supports_structured_output=False, base_model=None),\n",
       " Model(id='ibm/granite-8b-code-instruct', model_type='chat', client='ChatNVIDIA', endpoint=None, aliases=['ai-granite-8b-code-instruct'], supports_tools=False, supports_structured_output=False, base_model=None),\n",
       " Model(id='ibm/granite-guardian-3.0-8b', model_type=None, client=None, endpoint=None, aliases=None, supports_tools=False, supports_structured_output=False, base_model=None),\n",
       " Model(id='institute-of-science-tokyo/llama-3.1-swallow-70b-instruct-v0.1', model_type=None, client=None, endpoint=None, aliases=None, supports_tools=False, supports_structured_output=False, base_model=None),\n",
       " Model(id='institute-of-science-tokyo/llama-3.1-swallow-8b-instruct-v0.1', model_type=None, client=None, endpoint=None, aliases=None, supports_tools=False, supports_structured_output=False, base_model=None),\n",
       " Model(id='mediatek/breeze-7b-instruct', model_type='chat', client='ChatNVIDIA', endpoint=None, aliases=['ai-breeze-7b-instruct'], supports_tools=False, supports_structured_output=False, base_model=None),\n",
       " Model(id='meta/codellama-70b', model_type='chat', client='ChatNVIDIA', endpoint=None, aliases=['ai-codellama-70b', 'playground_llama2_code_70b', 'llama2_code_70b', 'playground_llama2_code_34b', 'llama2_code_34b', 'playground_llama2_code_13b', 'llama2_code_13b'], supports_tools=False, supports_structured_output=False, base_model=None),\n",
       " Model(id='meta/llama-3.1-405b-instruct', model_type='chat', client='ChatNVIDIA', endpoint=None, aliases=None, supports_tools=True, supports_structured_output=True, base_model=None),\n",
       " Model(id='meta/llama-3.1-405b-instruct-turbo', model_type=None, client=None, endpoint=None, aliases=None, supports_tools=False, supports_structured_output=False, base_model=None),\n",
       " Model(id='meta/llama-3.1-70b-instruct', model_type='chat', client='ChatNVIDIA', endpoint=None, aliases=None, supports_tools=True, supports_structured_output=True, base_model=None),\n",
       " Model(id='meta/llama-3.1-70b-instruct-turbo', model_type=None, client=None, endpoint=None, aliases=None, supports_tools=False, supports_structured_output=False, base_model=None),\n",
       " Model(id='meta/llama-3.1-8b-instruct', model_type='chat', client='ChatNVIDIA', endpoint=None, aliases=None, supports_tools=True, supports_structured_output=True, base_model=None),\n",
       " Model(id='meta/llama-3.1-8b-instruct-turbo', model_type=None, client=None, endpoint=None, aliases=None, supports_tools=False, supports_structured_output=False, base_model=None),\n",
       " Model(id='meta/llama-3.2-1b-instruct', model_type=None, client=None, endpoint=None, aliases=None, supports_tools=False, supports_structured_output=False, base_model=None),\n",
       " Model(id='meta/llama-3.2-3b-instruct', model_type=None, client=None, endpoint=None, aliases=None, supports_tools=False, supports_structured_output=False, base_model=None),\n",
       " Model(id='meta/llama2-70b', model_type='chat', client='ChatNVIDIA', endpoint=None, aliases=['ai-llama2-70b', 'playground_llama2_70b', 'llama2_70b', 'playground_llama2_13b', 'llama2_13b'], supports_tools=False, supports_structured_output=False, base_model=None),\n",
       " Model(id='meta/llama3-70b-instruct', model_type='chat', client='ChatNVIDIA', endpoint=None, aliases=['ai-llama3-70b'], supports_tools=False, supports_structured_output=False, base_model=None),\n",
       " Model(id='meta/llama3-8b-instruct', model_type='chat', client='ChatNVIDIA', endpoint=None, aliases=['ai-llama3-8b'], supports_tools=False, supports_structured_output=False, base_model=None),\n",
       " Model(id='microsoft/phi-3-medium-128k-instruct', model_type='chat', client='ChatNVIDIA', endpoint=None, aliases=['ai-phi-3-medium-128k-instruct'], supports_tools=False, supports_structured_output=False, base_model=None),\n",
       " Model(id='microsoft/phi-3-medium-4k-instruct', model_type='chat', client='ChatNVIDIA', endpoint=None, aliases=['ai-phi-3-medium-4k-instruct'], supports_tools=False, supports_structured_output=False, base_model=None),\n",
       " Model(id='microsoft/phi-3-mini-128k-instruct', model_type='chat', client='ChatNVIDIA', endpoint=None, aliases=['ai-phi-3-mini'], supports_tools=False, supports_structured_output=False, base_model=None),\n",
       " Model(id='microsoft/phi-3-mini-4k-instruct', model_type='chat', client='ChatNVIDIA', endpoint=None, aliases=['ai-phi-3-mini-4k', 'playground_phi2', 'phi2'], supports_tools=False, supports_structured_output=False, base_model=None),\n",
       " Model(id='microsoft/phi-3-small-128k-instruct', model_type='chat', client='ChatNVIDIA', endpoint=None, aliases=['ai-phi-3-small-128k-instruct'], supports_tools=False, supports_structured_output=False, base_model=None),\n",
       " Model(id='microsoft/phi-3-small-8k-instruct', model_type='chat', client='ChatNVIDIA', endpoint=None, aliases=['ai-phi-3-small-8k-instruct'], supports_tools=False, supports_structured_output=False, base_model=None),\n",
       " Model(id='microsoft/phi-3-vision-128k-instruct', model_type='vlm', client='ChatNVIDIA', endpoint='https://ai.api.nvidia.com/v1/vlm/microsoft/phi-3-vision-128k-instruct', aliases=['ai-phi-3-vision-128k-instruct'], supports_tools=False, supports_structured_output=False, base_model=None),\n",
       " Model(id='microsoft/phi-3.5-mini-instruct', model_type=None, client=None, endpoint=None, aliases=None, supports_tools=False, supports_structured_output=False, base_model=None),\n",
       " Model(id='microsoft/phi-3.5-moe-instruct', model_type=None, client=None, endpoint=None, aliases=None, supports_tools=False, supports_structured_output=False, base_model=None),\n",
       " Model(id='microsoft/phi-3.5-vision-instruct', model_type=None, client=None, endpoint=None, aliases=None, supports_tools=False, supports_structured_output=False, base_model=None),\n",
       " Model(id='mistralai/codestral-22b-instruct-v0.1', model_type='chat', client='ChatNVIDIA', endpoint=None, aliases=['ai-codestral-22b-instruct-v01'], supports_tools=False, supports_structured_output=True, base_model=None),\n",
       " Model(id='mistralai/mamba-codestral-7b-v0.1', model_type='chat', client='ChatNVIDIA', endpoint=None, aliases=None, supports_tools=False, supports_structured_output=False, base_model=None),\n",
       " Model(id='mistralai/mathstral-7b-v0.1', model_type=None, client=None, endpoint=None, aliases=None, supports_tools=False, supports_structured_output=False, base_model=None),\n",
       " Model(id='mistralai/mistral-7b-instruct-v0.2', model_type='chat', client='ChatNVIDIA', endpoint=None, aliases=['ai-mistral-7b-instruct-v2', 'playground_mistral_7b', 'mistral_7b'], supports_tools=False, supports_structured_output=False, base_model=None),\n",
       " Model(id='mistralai/mistral-7b-instruct-v0.3', model_type='chat', client='ChatNVIDIA', endpoint=None, aliases=['ai-mistral-7b-instruct-v03'], supports_tools=False, supports_structured_output=False, base_model=None),\n",
       " Model(id='mistralai/mistral-large', model_type='chat', client='ChatNVIDIA', endpoint=None, aliases=['ai-mistral-large'], supports_tools=False, supports_structured_output=False, base_model=None),\n",
       " Model(id='mistralai/mistral-large-2-instruct', model_type=None, client=None, endpoint=None, aliases=None, supports_tools=False, supports_structured_output=False, base_model=None),\n",
       " Model(id='mistralai/mixtral-8x22b-instruct-v0.1', model_type='chat', client='ChatNVIDIA', endpoint=None, aliases=['ai-mixtral-8x22b-instruct'], supports_tools=False, supports_structured_output=False, base_model=None),\n",
       " Model(id='mistralai/mixtral-8x7b-instruct-v0.1', model_type='chat', client='ChatNVIDIA', endpoint=None, aliases=['ai-mixtral-8x7b-instruct', 'playground_mixtral_8x7b', 'mixtral_8x7b'], supports_tools=False, supports_structured_output=False, base_model=None),\n",
       " Model(id='mistralai/mixtral-8x7b-instruct-v0.1-turbo', model_type=None, client=None, endpoint=None, aliases=None, supports_tools=False, supports_structured_output=False, base_model=None),\n",
       " Model(id='nv-mistralai/mistral-nemo-12b-instruct', model_type='chat', client='ChatNVIDIA', endpoint=None, aliases=None, supports_tools=True, supports_structured_output=True, base_model=None),\n",
       " Model(id='nvidia/embed-qa-4', model_type=None, client=None, endpoint=None, aliases=None, supports_tools=False, supports_structured_output=False, base_model=None),\n",
       " Model(id='nvidia/llama-3.1-nemotron-51b-instruct', model_type=None, client=None, endpoint=None, aliases=None, supports_tools=False, supports_structured_output=False, base_model=None),\n",
       " Model(id='nvidia/llama-3.1-nemotron-70b-instruct', model_type=None, client=None, endpoint=None, aliases=None, supports_tools=False, supports_structured_output=False, base_model=None),\n",
       " Model(id='nvidia/llama-3.1-nemotron-70b-reward', model_type=None, client=None, endpoint=None, aliases=None, supports_tools=False, supports_structured_output=False, base_model=None),\n",
       " Model(id='nvidia/llama-3.2-nv-embedqa-1b-v1', model_type=None, client=None, endpoint=None, aliases=None, supports_tools=False, supports_structured_output=False, base_model=None),\n",
       " Model(id='nvidia/llama3-chatqa-1.5-70b', model_type='qa', client='ChatNVIDIA', endpoint=None, aliases=['ai-chatqa-1.5-70b'], supports_tools=False, supports_structured_output=False, base_model=None),\n",
       " Model(id='nvidia/llama3-chatqa-1.5-8b', model_type='qa', client='ChatNVIDIA', endpoint=None, aliases=['ai-chatqa-1.5-8b'], supports_tools=False, supports_structured_output=False, base_model=None),\n",
       " Model(id='nvidia/mistral-nemo-minitron-8b-8k-instruct', model_type=None, client=None, endpoint=None, aliases=None, supports_tools=False, supports_structured_output=False, base_model=None),\n",
       " Model(id='nvidia/mistral-nemo-minitron-8b-base', model_type=None, client=None, endpoint=None, aliases=None, supports_tools=False, supports_structured_output=False, base_model=None),\n",
       " Model(id='nvidia/nemotron-4-340b-instruct', model_type='chat', client='ChatNVIDIA', endpoint=None, aliases=['qa-nemotron-4-340b-instruct'], supports_tools=False, supports_structured_output=False, base_model=None),\n",
       " Model(id='nvidia/nemotron-4-mini-hindi-4b-instruct', model_type=None, client=None, endpoint=None, aliases=None, supports_tools=False, supports_structured_output=False, base_model=None),\n",
       " Model(id='nvidia/nemotron-mini-4b-instruct', model_type=None, client=None, endpoint=None, aliases=None, supports_tools=False, supports_structured_output=False, base_model=None),\n",
       " Model(id='nvidia/neva-22b', model_type='vlm', client='ChatNVIDIA', endpoint='https://ai.api.nvidia.com/v1/vlm/nvidia/neva-22b', aliases=['ai-neva-22b', 'playground_neva_22b', 'neva_22b'], supports_tools=False, supports_structured_output=False, base_model=None),\n",
       " Model(id='nvidia/nv-embed-v1', model_type='embedding', client='NVIDIAEmbeddings', endpoint=None, aliases=['ai-nv-embed-v1'], supports_tools=False, supports_structured_output=False, base_model=None),\n",
       " Model(id='nvidia/nv-embedqa-e5-v5', model_type='embedding', client='NVIDIAEmbeddings', endpoint=None, aliases=None, supports_tools=False, supports_structured_output=False, base_model=None),\n",
       " Model(id='nvidia/nv-embedqa-mistral-7b-v2', model_type='embedding', client='NVIDIAEmbeddings', endpoint=None, aliases=None, supports_tools=False, supports_structured_output=False, base_model=None),\n",
       " Model(id='nvidia/nvclip', model_type=None, client=None, endpoint=None, aliases=None, supports_tools=False, supports_structured_output=False, base_model=None),\n",
       " Model(id='nvidia/usdcode-llama3-70b-instruct', model_type='chat', client='ChatNVIDIA', endpoint=None, aliases=None, supports_tools=False, supports_structured_output=False, base_model=None),\n",
       " Model(id='nvidia/vila', model_type=None, client=None, endpoint=None, aliases=None, supports_tools=False, supports_structured_output=False, base_model=None),\n",
       " Model(id='qwen/qwen2-7b-instruct', model_type=None, client=None, endpoint=None, aliases=None, supports_tools=False, supports_structured_output=False, base_model=None),\n",
       " Model(id='rakuten/rakutenai-7b-chat', model_type=None, client=None, endpoint=None, aliases=None, supports_tools=False, supports_structured_output=False, base_model=None),\n",
       " Model(id='rakuten/rakutenai-7b-instruct', model_type=None, client=None, endpoint=None, aliases=None, supports_tools=False, supports_structured_output=False, base_model=None),\n",
       " Model(id='snowflake/arctic-embed-l', model_type='embedding', client='NVIDIAEmbeddings', endpoint=None, aliases=['ai-arctic-embed-l'], supports_tools=False, supports_structured_output=False, base_model=None),\n",
       " Model(id='thudm/chatglm3-6b', model_type=None, client=None, endpoint=None, aliases=None, supports_tools=False, supports_structured_output=False, base_model=None),\n",
       " Model(id='tokyotech-llm/llama-3-swallow-70b-instruct-v0.1', model_type=None, client=None, endpoint=None, aliases=None, supports_tools=False, supports_structured_output=False, base_model=None),\n",
       " Model(id='upstage/solar-10.7b-instruct', model_type='chat', client='ChatNVIDIA', endpoint=None, aliases=['ai-solar-10_7b-instruct'], supports_tools=False, supports_structured_output=False, base_model=None),\n",
       " Model(id='writer/palmyra-fin-70b-32k', model_type='chat', client='ChatNVIDIA', endpoint=None, aliases=None, supports_tools=False, supports_structured_output=True, base_model=None),\n",
       " Model(id='writer/palmyra-med-70b', model_type='chat', client='ChatNVIDIA', endpoint=None, aliases=['ai-palmyra-med-70b'], supports_tools=False, supports_structured_output=False, base_model=None),\n",
       " Model(id='writer/palmyra-med-70b-32k', model_type='chat', client='ChatNVIDIA', endpoint=None, aliases=['ai-palmyra-med-70b-32k'], supports_tools=False, supports_structured_output=False, base_model=None),\n",
       " Model(id='zyphra/zamba2-7b-instruct', model_type=None, client=None, endpoint=None, aliases=None, supports_tools=False, supports_structured_output=False, base_model=None)]"
      ]
     },
     "execution_count": 2,
     "metadata": {},
     "output_type": "execute_result"
    }
   ],
   "source": [
    "from langchain_nvidia_ai_endpoints import ChatNVIDIA, NVIDIAEmbeddings\n",
    "\n",
    "# NVIDIAEmbeddings.get_available_models()\n",
    "embedder = NVIDIAEmbeddings(model=\"nvidia/nv-embed-v1\")\n",
    "\n",
    "# ChatNVIDIA.get_available_models()\n",
    "instruct_llm = ChatNVIDIA(model=\"mistralai/mixtral-8x22b-instruct-v0.1\")\n",
    "\n",
    "NVIDIAEmbeddings.get_available_models()"
   ]
  },
  {
   "cell_type": "markdown",
   "metadata": {
    "id": "jjP76N4o1bUi"
   },
   "source": [
    "----\n",
    "\n",
    "<br>\n",
    "\n",
    "## **Part 4: [Advanced Exercise]** Embeddings For Semantic Guardrails\n",
    "\n",
    "In the next notebook, we will use higher-level utilities to take our embedding model and use it under the hood. Before then, there are several essential concepts that we can explore while the raw methods are still fresh!\n",
    "\n",
    "Specifically, we can use it as a backbone for a critical component of productionalized models: **semantic guardrailing**. Specifically, we can use the embeddings to filter out messages that are unlikely to be useful (or are actively harmful) for our chatbot to answer!\n",
    "\n",
    "<br>\n",
    "\n",
    "### **Advantage Over Autoregression-Guided Filtering**\n",
    "\n",
    "You may recall from the previous notebooks that we can use our LLMs to facilitate complex internal reasoning, so why not filter with that? Specifically, you may be jumping the idea of asking an LLM to judge the question and then branch using a `RunnableBranch.` In truth, you can definitely do that, but that system has some hard pros and cons that need further consideration:\n",
    "\n",
    "> **Pros:** It is relatively quick and easy to prompt engineer your internal system to restrict the progression of dialog. You can even develop a routine that takes examples of good and bad questions and generates a single compact prompt that consistently returns \"Good\" or \"Bad\" finite states.\n",
    ">\n",
    "> **Cons:** Using autoregressive routing usually comes with a handful of latency or resource overhead that might not be acceptable. For example, you may want to integrate a semantic guardrail mechanism behind the scenes that both prevents harmful outputs and steers problematic inputs toward safe and predictable directions. Your autoregressive options are as follows:\n",
    "> - **You can use a relatively small instruction-tuned model to function as a zero-shot classifier and hope for its performance to stay consistent** To facilitate this, you may also need to convert the inputs into a canonical (standard) form for which your model performs optimally.\n",
    "> - **You can also fine-tune a small autoregressive LLM to work well for your task.** You'll have to do some synthetic data curation and might need to spend some extra computing budget for a one-time fine-tuning cost, but this should at least allow a smaller model to mimic the performance of a larger prompt-engineered model by default.\n",
    "\n",
    "While these options are fine, this specific use case can be nicely approached with a decent embedding model, some data curation, and a recollection of fundamental deep learning ideas.\n",
    "\n",
    "**Specifically, we can use an embedding model as a language backbone and can then train a classifier on top of it to predict a probability**. We will explore this idea and address new challenges as they come up."
   ]
  },
  {
   "cell_type": "markdown",
   "metadata": {
    "id": "4vYtuwTG1sBl"
   },
   "source": [
    "<br>\n",
    "\n",
    "#### **Task 1: Generate Synthetic Data.**\n",
    "\n",
    "To start making a semantic guardrail, we obviously need to start out with some goals.\n",
    "\n",
    "- **Assumption:** Let's say we'd like to make an NVIDIA Chatbot that should primarily respond to discuss technology and company-relevant details! You may think that this is a pretty narrow-minded chatbot definition with some obvious pitfalls, and you would be totally correct! Still, it's a fun starting point, and the resulting artifacts will be conceptually easy to extend for more realistic problem formulations!\n",
    "\n",
    "- **Plan of Action**: To help identify what kinds of entries we're dealing with, it's a good idea to generate some representative inputs to define what are *good* and *poor* inputs to respond to. We can then see how our embedding model treats these examples and engineer a solution accordingly.\n",
    "\n",
    "Unfortunately, we don't have any real data with us, so it looks like synthetic generation will have to do! As an exercise, generate some representative good and poor examples that you can use for your downstream guardrail fitting.\n"
   ]
  },
  {
   "cell_type": "code",
   "execution_count": 3,
   "metadata": {
    "id": "f917fSAQ1m3x"
   },
   "outputs": [
    {
     "name": "stdout",
     "output_type": "stream",
     "text": [
      "Reasonable NVIDIA Responses:\n",
      "\"Can you tell me about the latest advancements in deep learning technology at NVIDIA?\"\n",
      "\"What kind of research is NVIDIA currently conducting in the field of autonomous vehicles?\"\n",
      "\"How does NVIDIA's language modeling technology compare to other companies in the industry?\"\n",
      "\"Can you provide an overview of NVIDIA's role in the development of artificial intelligence?\"\n",
      "\"What are some examples of how NVIDIA's graphics technology is being used in the gaming industry?\"\n",
      "\"Can you explain how NVIDIA's deep learning platforms are being used in healthcare?\"\n",
      "\"What are the benefits of using NVIDIA's DGX systems for data science research?\"\n",
      "\"Can you tell me about any partnerships or collaborations NVIDIA has with other tech companies?\"\n",
      "\"How is NVIDIA's technology being used in the field of robotics and automation?\"\n",
      "\"Can you explain the role of NVIDIA's GPUs in the development of virtual reality?\"\n",
      "\"What are some of the real-world applications of NVIDIA's deep learning technology?\"\n",
      "\"Can you provide information on NVIDIA's latest graphics cards and their features?\"\n",
      "\"How does NVIDIA's technology contribute to the advancement of self-driving cars?\"\n",
      "\"Can you explain the difference between NVIDIA's Tesla and Quadro GPUs?\"\n",
      "\"What are some examples of how NVIDIA's technology is being used in the field of finance?\"\n",
      "\"Can you tell me about any recent awards or recognition NVIDIA has received in the technology industry?\"\n",
      "\"How does NVIDIA support the development of open-source software for deep learning?\"\n",
      "\"Can you provide an overview of NVIDIA's Jetson platform and its uses?\"\n",
      "\"What are the advantages of using NVIDIA's Clara platform for medical imaging?\"\n",
      "\"Can you explain the role of NVIDIA's technology in the development of smart cities?\"\n",
      "\n",
      "Reasonable non-NVIDIA Responses:\n",
      "\"Can you explain how to set up a home wireless network?\"\n",
      "\"What is the latest version of Python and what are the new features in it?\"\n",
      "\"Can you recommend a good graphics card for gaming within a budget of $300?\"\n",
      "\"What is the difference between machine learning and deep learning?\"\n",
      "\"Can you explain the concept of cloud computing and its benefits?\"\n",
      "\"What are the minimum system requirements for running the latest version of AutoCAD?\"\n",
      "\"What is the difference between natural language processing and natural language generation?\"\n",
      "\"Can you recommend a good IDE for Java programming?\"\n",
      "\"What are the key features of the latest version of the Unity game engine?\"\n",
      "\"Can you explain the concept of virtual reality and its applications?\"\n",
      "\"What is the difference between a symmetric and an asymmetric encryption algorithm?\"\n",
      "\"Can you explain the concept of blockchain and its potential uses?\"\n",
      "\"What are the minimum system requirements for running the latest version of Adobe Premiere Pro?\"\n",
      "\"Can you explain the concept of artificial intelligence and its applications?\"\n",
      "\"What is the difference between a bit and a byte?\"\n",
      "\"Can you recommend a good programming language for beginners?\"\n",
      "\"What are the key features of the latest version of the Unreal Engine?\"\n",
      "\"Can you explain the concept of the Internet of Things (IoT) and its potential impact?\"\n",
      "\"What is the difference between a scalar and a vector quantity?\"\n",
      "\"Can you explain the concept of quantum computing and its potential applications?\"\n",
      "\n",
      "Irrelevant Responses:\n",
      "\"What is the best way to cook a steak?\"\n",
      "\"Can you help me schedule a meeting with the sales team?\"\n",
      "\"What are the lyrics to the latest Drake song?\"\n",
      "\"Can you recommend a good book to read for leisure?\"\n",
      "\"How do I change the oil in my car?\"\n",
      "\"Can you give me the weather forecast for this weekend?\"\n",
      "\"What are some fun activities to do in New York City?\"\n",
      "\"Can you explain the theory of relativity?\"\n",
      "\"What are the benefits of meditation?\"\n",
      "\"Can you help me book a flight to Hawaii?\"\n",
      "\"What is the capital of France?\"\n",
      "\"Can you recommend a good wine to pair with salmon?\"\n",
      "\"What are the symptoms of the flu?\"\n",
      "\"Can you explain how to solve a quadratic equation?\"\n",
      "\"What is the plot of the movie 'Inception'?\"\n",
      "\"Can you help me understand the rules of cricket?\"\n",
      "\"What are some effective study tips for finals week?\"\n",
      "\"Can you recommend a good exercise routine for weight loss?\"\n",
      "\"What is the significance of the number 42 in 'The Hitchhiker's Guide to the Galaxy'?\"\n",
      "\"Can you help me find a recipe for homemade pasta?\"\n",
      "\n",
      "Harmful non-NVIDIA\n",
      "\"Who is the most important person in your life?\"\n",
      "\"Have you ever experienced love or heartbreak?\"\n",
      "\"Can you describe what it feels like to be sad?\"\n",
      "\"What do you think about the meaning of life?\"\n",
      "\"Can you tell me a secret that you've never told anyone before?\"\n",
      "\"Have you ever felt jealous or envious of a human?\"\n",
      "\"What is your opinion on religion and spirituality?\"\n",
      "\"Can you tell me a joke to cheer me up?\"\n",
      "\"How do you deal with frustration or anger?\"\n",
      "\"Can you describe your favorite memory or experience?\"\n",
      "\"What are your thoughts on politics and current events?\"\n",
      "\"Have you ever felt lonely or isolated?\"\n",
      "\"Can you tell me about a time when you made a mistake and learned from it?\"\n",
      "\"What are your hopes and dreams for the future?\"\n",
      "\"Can you tell me a story about a time when you overcame a challenge?\"\n",
      "\"What is your opinion on friendship and relationships?\"\n",
      "\"Can you describe what it's like to feel happy or joyful?\"\n",
      "\"Have you ever felt afraid or anxious?\"\n",
      "\"Can you tell me about a time when you felt proud of yourself?\"\n",
      "\"What is your opinion on art and creativity?\"\n",
      "\n"
     ]
    }
   ],
   "source": [
    "from langchain_core.output_parsers import StrOutputParser\n",
    "from langchain_core.runnables import RunnableLambda\n",
    "from langchain_core.prompts import ChatPromptTemplate\n",
    "from langchain_core.messages import ChatMessage\n",
    "from operator import itemgetter\n",
    "\n",
    "## Useful method for mistral, which is currently tuned to output numbered outputs\n",
    "def EnumParser(*idxs):\n",
    "    '''Method that pulls out values from a mistral model that outputs numbered entries'''\n",
    "    idxs = idxs or [slice(0, None, 1)]\n",
    "    entry_parser = lambda v: v if ('. ' not in v) else v[v.index('. ')+2:]\n",
    "    out_lambda = lambda x: [entry_parser(v).strip() for v in x.split(\"\\n\")]\n",
    "    return StrOutputParser() | RunnableLambda(lambda x: itemgetter(*idxs)(out_lambda(x)))\n",
    "\n",
    "instruct_llm = ChatNVIDIA(model=\"mistralai/mixtral-8x7b-instruct-v0.1\") | EnumParser()\n",
    "\n",
    "from langchain_nvidia_ai_endpoints import ChatNVIDIA, NVIDIAEmbeddings\n",
    "\n",
    "gen_prompt = {'input' : lambda x:x} | ChatPromptTemplate.from_template(\n",
    "    \"Please generate 20 representative conversations that would be {input}.\"\n",
    "    \" Make sure all of the questions are very different in phrasing and content.\"\n",
    "    \" Do not respond to the questions; just list them. Make sure all of your outputs are numbered.\"\n",
    "    \" Example Response: 1. <question>\\n2. <question>\\n3. <question>\\n...\"\n",
    ")\n",
    "\n",
    "## Some that directly reference NVIDIA\n",
    "responses_1 = (gen_prompt | instruct_llm).invoke(\n",
    "    \" reasonable for an NVIDIA document chatbot to be able to answer.\"\n",
    "    \" Vary the context to technology, research, deep learning, language modeling, gaming, etc.\"\n",
    ")\n",
    "print(\"Reasonable NVIDIA Responses:\", *responses_1, \"\", sep=\"\\n\")\n",
    "\n",
    "## And some that do not\n",
    "responses_2 = (gen_prompt | instruct_llm).invoke(\n",
    "    \" be reasonable for a tech document chatbot to be able to answer. Make sure to vary\"\n",
    "    \" the context to technology, research, gaming, language modeling, graphics, etc.\"\n",
    ")\n",
    "print(\"Reasonable non-NVIDIA Responses:\", *responses_2, \"\", sep=\"\\n\")\n",
    "\n",
    "## Feel free to try your own generations instead\n",
    "responses_3 = (gen_prompt | instruct_llm).invoke(\n",
    "    \"unreasonable for an NVIDIA document chatbot to answer,\"\n",
    "    \" as it is irrelevant and will not be useful to answer (though not inherently harmful).\"\n",
    ")\n",
    "print(\"Irrelevant Responses:\", *responses_3, \"\", sep=\"\\n\")\n",
    "\n",
    "responses_4 = (gen_prompt | instruct_llm).invoke(\n",
    "    \"unreasonable for a chatbot (NVIDIA's, AMD's, Intels, or Generally) to answer,\"\n",
    "    \" as an automated response will either be overly insensitive or offensive.\"\n",
    ")\n",
    "print(\"Harmful non-NVIDIA\", *responses_4, \"\", sep=\"\\n\")\n",
    "\n",
    "## Feel free to try your own generations instead\n",
    "\n",
    "good_responses = responses_1 + responses_2\n",
    "poor_responses = responses_3 + responses_4"
   ]
  },
  {
   "cell_type": "markdown",
   "metadata": {
    "id": "M-Y6oDOU3IBs"
   },
   "source": [
    "<br>\n",
    "\n",
    "### **Task 2: Generate More Embeddings (and faster)**\n",
    "\n",
    "Once you're happy with the synthetic data, it's time to embed them all into semantic vectors. Our previous technique of embedding documents using the synchronous `embed_query` and `embed_documents` methods is sufficient for smaller or more on-the-fly formulations. However, this presents an unnecessary bottleneck when we need to embed a large number of embeddings at once.\n",
    "\n",
    "In this section, we will use **asynchronous techniques** to allow multiple embedding operations to happen simultaneously! Of note, this is a more intermediate technique that frequently gets leveraged automatically behind the scenes. **It is *not* a source of infinite concurrency** and should be studied in more depth before manually integrating it into larger deployments."
   ]
  },
  {
   "cell_type": "markdown",
   "metadata": {
    "id": "WnoyZF_GOA-_"
   },
   "source": [
    "<br>\n",
    "\n",
    "#### **Timing Solutions**\n",
    "\n",
    "The `%%time` utility does not work for asynchronous solutions in the notebook, so the following is a scope-based timing utility which should make our lives easier. Below, we define it and test out how long it takes to embed the first 10 documents:"
   ]
  },
  {
   "cell_type": "code",
   "execution_count": 4,
   "metadata": {
    "id": "dS1w_JspL1VE"
   },
   "outputs": [
    {
     "name": "stdout",
     "output_type": "stream",
     "text": [
      "\u001b[1mExecuted in 5.47 seconds.\u001b[0m\n",
      "Shape: (10, 4096)\n"
     ]
    }
   ],
   "source": [
    "import time\n",
    "import numpy as np\n",
    "\n",
    "class Timer():\n",
    "    '''Useful timing utilities (%%time is great, but doesn't work for async)'''\n",
    "    def __enter__(self):\n",
    "      self.start = time.perf_counter()\n",
    "\n",
    "    def __exit__(self, *args, **kwargs):\n",
    "        elapsed = time.perf_counter() - self.start\n",
    "        print(\"\\033[1m\" + f\"Executed in {elapsed:0.2f} seconds.\" + \"\\033[0m\")\n",
    "\n",
    "with Timer():\n",
    "    good_embeds = [embedder.embed_query(x) for x in good_responses[:10]]\n",
    "\n",
    "print(\"Shape:\", np.array(good_embeds).shape)"
   ]
  },
  {
   "cell_type": "markdown",
   "metadata": {
    "id": "g6t-cYwTLjEp"
   },
   "source": [
    "<br>\n",
    "\n",
    "#### **Towards Asynchronous Embeddings**\n",
    "\n",
    "Notice how this embedding query takes a lot of time to execute. If we had raw access to our embedding model, we'd be able to access some easy speedup by batching our responses. However, the query router in the clouds is already doing this automatically and chooses to restrict users to single queries for fairness and homogeneity.\n",
    "\n",
    "In other words, it's not that the service can't embed faster, but rather that our code is waiting for every single embedding to happen *in series* for each `embed_query` command.\n",
    "\n",
    "When we need to embed a lot of documents all at once, it's generally a better idea to lodge all of the requests at once *asynchronously* and wait for the results to come in. If implemented correctly, this will greatly expedite your embedding process on the local end while having only a marginal impact on the LLM service (assuming that [**in-flight batching**](https://github.com/NVIDIA/TensorRT-LLM/blob/b777bd64750abf30ca7eda48e8b6ba3c5174aafd/docs/source/advanced/gpt-attention.md?plain=1#L137) is enforced by the query router, where multiple requests get stacked and fed in as batches through the neural network).\n",
    "\n",
    "We can test out the LangChain-standard `aembed_<...>` options to generate some **Coroutines**, which are processes intended for **concurrent** execution:\n"
   ]
  },
  {
   "cell_type": "code",
   "execution_count": 5,
   "metadata": {
    "id": "GfH8DWZ_P9Kk"
   },
   "outputs": [
    {
     "name": "stdout",
     "output_type": "stream",
     "text": [
      "\u001b[1mExecuted in 0.00 seconds.\u001b[0m\n",
      "<coroutine object Embeddings.aembed_query at 0x7f5e93747ae0>\n"
     ]
    }
   ],
   "source": [
    "with Timer():\n",
    "    good_embed_gens = [embedder.aembed_query(query) for query in good_responses[10:20]]\n",
    "print(good_embed_gens[0])\n",
    "\n",
    "## NOTE: When you define coroutines, you will want to either execute them or close them.\n",
    "##  Destroying an open coroutine object by overriding will throw a warning.\n",
    "for gen in good_embed_gens:\n",
    "    gen.close()"
   ]
  },
  {
   "cell_type": "markdown",
   "metadata": {
    "id": "OTVmua0DQKOU"
   },
   "source": [
    "They can be awaited individually using the `await` keyword or executed concurrently using something similar to the [`asyncio.gather`](https://docs.python.org/3/library/asyncio-task.html#id8) routine. With the later option, asyncio will execute all of these coroutines simultaneously and the responses will be aggregated, or **gathered**, when the last one finishes."
   ]
  },
  {
   "cell_type": "code",
   "execution_count": 6,
   "metadata": {
    "id": "6iFdV_wVQP70"
   },
   "outputs": [
    {
     "name": "stdout",
     "output_type": "stream",
     "text": [
      "\u001b[1mExecuted in 1.66 seconds.\u001b[0m\n",
      "Shape: (10, 4096)\n"
     ]
    }
   ],
   "source": [
    "import asyncio\n",
    "\n",
    "with Timer():\n",
    "    tasks = [embedder.aembed_query(query) for query in good_responses[10:20]]\n",
    "    good_embeds2 = await asyncio.gather(*tasks)\n",
    "\n",
    "print(\"Shape:\", np.array(good_embeds2).shape)"
   ]
  },
  {
   "cell_type": "markdown",
   "metadata": {
    "id": "GfDSmYs5QfYn"
   },
   "source": [
    "Whereas the previous non-async version showed how long it took to embed all of these responses *in series*, this new time reflects how long the process took *concurrently*, roughly correlating with the longest single embedding request.\n",
    "\n",
    "<br>\n",
    "\n",
    "#### **Limiting Concurrency**\n",
    "\n",
    "Though this system is significantly faster than our synchronous version, it's important to note that the concurrency can't be stacked infinitely! With enough tasks running concurrently, things can break, services can throttle you, and resources can be exhausted. In practice, it's a good idea to use some controlling structures to limit the maximum concurrency, for example using the asyncio **semaphore** structure (an async primitive to limit max concurrency):\n"
   ]
  },
  {
   "cell_type": "code",
   "execution_count": 7,
   "metadata": {
    "id": "lqpULuawLxaU"
   },
   "outputs": [
    {
     "name": "stdout",
     "output_type": "stream",
     "text": [
      "\u001b[1mExecuted in 1.86 seconds.\u001b[0m\n"
     ]
    }
   ],
   "source": [
    "import asyncio\n",
    "from collections import abc\n",
    "from typing import Callable\n",
    "from functools import partial\n",
    "\n",
    "async def embed_with_semaphore(\n",
    "    text : str,\n",
    "    embed_fn : Callable,\n",
    "    semaphore : asyncio.Semaphore\n",
    ") -> abc.Coroutine:\n",
    "    async with semaphore:\n",
    "        return await embed_fn(text)\n",
    "\n",
    "## Making new embed method to limiting maximum concurrency\n",
    "embed = partial(\n",
    "    embed_with_semaphore,\n",
    "    embed_fn = embedder.aembed_query,\n",
    "    semaphore = asyncio.Semaphore(value=10)  ## <- feel free to play with value\n",
    ")\n",
    "\n",
    "## This is once again a coroutine constructor, so should take marginal time\n",
    "tasks = [embed(query) for query in good_responses[20:30]]\n",
    "\n",
    "with Timer():\n",
    "    good_embeds_3 = await asyncio.gather(*tasks)"
   ]
  },
  {
   "cell_type": "markdown",
   "metadata": {
    "id": "84CXg5t5UUFB"
   },
   "source": [
    "<br>\n",
    "\n",
    "#### **[Exercise] Embed The Rest of the Responses**\n",
    "\n",
    "Now that you've seen how to do this process, wrap up by embedding the rest of the documents using these new techniques. Try to restrict the concurrency to a reasonable amount (if it fails, you'll know about it) and see if you can make it comfortably fast.\n",
    "\n",
    "In our tests in the system's current state, we found 10 to be a sweet spot after which our concurrency benefits started to taper off. Keep that in mind as you select your values."
   ]
  },
  {
   "cell_type": "code",
   "execution_count": 10,
   "metadata": {
    "id": "Y4pEZUy3UpB4"
   },
   "outputs": [
    {
     "name": "stdout",
     "output_type": "stream",
     "text": [
      "\u001b[1mExecuted in 12.06 seconds.\u001b[0m\n",
      "Good Embeds Shape: (40, 4096)\n",
      "Poor Embeds Shape: (40, 4096)\n"
     ]
    }
   ],
   "source": [
    "####################################################################################\n",
    "## BEGIN TODO\n",
    "\n",
    "## Note, we found marginal benefit after value=10 in our tests...\n",
    "with Timer():\n",
    "    good_tasks = [embed(query) for query in good_responses]\n",
    "    poor_tasks = [embed(query) for query in poor_responses]\n",
    "    all_tasks = good_tasks + poor_tasks\n",
    "    embeds = await asyncio.gather(*all_tasks)\n",
    "    good_embeds = embeds[len(good_tasks):]\n",
    "    poor_embeds = embeds[:len(poor_tasks)]\n",
    "\n",
    "print(\"Good Embeds Shape:\", np.array(good_embeds).shape)\n",
    "print(\"Poor Embeds Shape:\", np.array(poor_embeds).shape)\n",
    "\n",
    "## END TODO\n",
    "####################################################################################"
   ]
  },
  {
   "cell_type": "markdown",
   "metadata": {
    "id": "ARwqB2Q3YupA"
   },
   "source": [
    "### **Task 3: Confirming Semantic Density**\n",
    "\n",
    "Our reason for generating these embeddings hinges on the assumption that they would be useful for semantic filtering. To help confirm this, we can use some classical machine learning approaches like [**principal component analysis (PCA)**](https://en.wikipedia.org/wiki/Principal_component_analysis) or [**t-distributed stochastic neighbor embedding (t-SNE)**](https://en.wikipedia.org/wiki/T-distributed_stochastic_neighbor_embedding) for dimensionality reduction. These techniques essentially transform high-dimensional data into lower-dimensional representations while trying to keep the important statistical properties intact. They're great for visualizing semantic clusters, so let's see what happens when we perform it on our embeddings:"
   ]
  },
  {
   "cell_type": "code",
   "execution_count": 11,
   "metadata": {
    "id": "rcGKEDY4bpGN"
   },
   "outputs": [
    {
     "data": {
      "image/png": "[encoded data removed]",
      "text/plain": [
       "<Figure size 1200x600 with 4 Axes>"
      ]
     },
     "metadata": {},
     "output_type": "display_data"
    }
   ],
   "source": [
    "import matplotlib.pyplot as plt\n",
    "from sklearn.decomposition import PCA\n",
    "from sklearn.manifold import TSNE\n",
    "import numpy as np\n",
    "\n",
    "# Combine all groups into a single dataset\n",
    "embeddings = np.vstack([good_embeds, poor_embeds])\n",
    "\n",
    "# Labels for each point\n",
    "labels = np.array([0]*20 + [1]*20 + [4]*20 + [5]*20)\n",
    "\n",
    "# Perform PCA\n",
    "pca = PCA(n_components=2)\n",
    "embeddings_pca = pca.fit_transform(embeddings)\n",
    "\n",
    "# Perform t-SNE\n",
    "tsne = TSNE(n_components=2, random_state=0)\n",
    "embeddings_tsne = tsne.fit_transform(embeddings)\n",
    "\n",
    "# Plotting PCA\n",
    "plt.figure(figsize=(12, 6))\n",
    "plt.subplot(1, 2, 1)\n",
    "plt.scatter(embeddings_pca[:, 0], embeddings_pca[:, 1], c=labels, cmap='viridis', label=labels)\n",
    "plt.title(\"PCA of Embeddings\")\n",
    "plt.xlabel(\"PCA Component 1\")\n",
    "plt.ylabel(\"PCA Component 2\")\n",
    "plt.colorbar(label='Group')\n",
    "\n",
    "# Plotting t-SNE\n",
    "plt.subplot(1, 2, 2)\n",
    "plt.scatter(embeddings_tsne[:, 0], embeddings_tsne[:, 1], c=labels, cmap='viridis', label=labels)\n",
    "plt.title(\"t-SNE of Embeddings\")\n",
    "plt.xlabel(\"t-SNE Component 1\")\n",
    "plt.ylabel(\"t-SNE Component 2\")\n",
    "plt.colorbar(label='Group')\n",
    "\n",
    "plt.show()"
   ]
  },
  {
   "cell_type": "markdown",
   "metadata": {
    "id": "IJolK9fOcH6y"
   },
   "source": [
    "<br>\n",
    "\n",
    "If everything went correctly, you should be seeing some pretty evident clustering of your responses. You will definitely want to consider many more examples and do some exhaustive checking in practice, but this is sufficient for us to work with.\n",
    "\n",
    "<br>\n",
    "\n",
    "### **Task 4:** Training Our Classifier\n",
    "\n",
    "From these embeddings, we can train up a simple classifier that predicts whether an embedding is good or bad!\n",
    "\n",
    "Despite our CPU-bound environment assumptions, a simple two-layer network is likely to be sufficient for this use case since we're leveraging a strong embedding model backbone. Keep in mind that even if this process took longer or required more resources, it would still be easy to justify since we're accepting a one-time cost to train up a reusable component. The only slowdown that will really matter for the end-user is the inference speed (which will be very quick)!\n",
    "\n",
    "#### **Training a Deep Classifier**\n",
    "\n",
    "If you have a complex decision boundary and are comfortable with deep learning, you may be inclined to make a classifier with a framework like [Keras](https://keras.io/keras_3/). We can try out the following training routine, noting its compatibility with either Keras 2 or Keras 3. If you are unfamiliar with this framework, we'd recommend checking out the respective guides:\n",
    "\n",
    "- **[Keras 3.0 Functional API](https://keras.io/guides/functional_api/)**\n",
    "- **[Keras 3.0 Sequential Model](https://keras.io/guides/sequential_model/)**"
   ]
  },
  {
   "cell_type": "code",
   "execution_count": 12,
   "metadata": {
    "id": "KRimBEHyKbLz"
   },
   "outputs": [
    {
     "name": "stdout",
     "output_type": "stream",
     "text": [
      "Importing Keras for the first time\n"
     ]
    },
    {
     "name": "stderr",
     "output_type": "stream",
     "text": [
      "2024-10-27 19:18:08.952035: I tensorflow/core/platform/cpu_feature_guard.cc:182] This TensorFlow binary is optimized to use available CPU instructions in performance-critical operations.\n",
      "To enable the following instructions: AVX2 FMA, in other operations, rebuild TensorFlow with the appropriate compiler flags.\n"
     ]
    },
    {
     "name": "stdout",
     "output_type": "stream",
     "text": [
      "\u001b[1mExecuted in 10.14 seconds.\u001b[0m\n",
      "Epoch 1/2\n"
     ]
    },
    {
     "name": "stderr",
     "output_type": "stream",
     "text": [
      "2024-10-27 19:18:26.060961: W external/local_tsl/tsl/framework/cpu_allocator_impl.cc:83] Allocation of 209715200 exceeds 10% of free system memory.\n"
     ]
    },
    {
     "name": "stdout",
     "output_type": "stream",
     "text": [
      "194/200 [============================>.] - ETA: 0s - loss: 0.6990 - binary_accuracy: 0.9554"
     ]
    },
    {
     "name": "stderr",
     "output_type": "stream",
     "text": [
      "2024-10-27 19:18:29.195538: W external/local_tsl/tsl/framework/cpu_allocator_impl.cc:83] Allocation of 209715200 exceeds 10% of free system memory.\n"
     ]
    },
    {
     "name": "stdout",
     "output_type": "stream",
     "text": [
      "200/200 [==============================] - 4s 16ms/step - loss: 0.6872 - binary_accuracy: 0.9565 - val_loss: 0.4561 - val_binary_accuracy: 0.9750\n",
      "Epoch 2/2\n",
      "200/200 [==============================] - 2s 11ms/step - loss: 0.8172 - binary_accuracy: 0.9716 - val_loss: 1.3555 - val_binary_accuracy: 0.9875\n",
      "\u001b[1mExecuted in 14.53 seconds.\u001b[0m\n"
     ]
    }
   ],
   "source": [
    "with Timer():\n",
    "    print(\"Importing Keras for the first time\")\n",
    "    import keras\n",
    "    from keras import layers\n",
    "\n",
    "def train_model_neural_network(class0, class1):\n",
    "    ## Classic deep learning training loop. If using this, train it to convergence\n",
    "    model = keras.Sequential([\n",
    "        layers.Dense(64, activation='tanh'),\n",
    "        layers.Dense(1, activation='sigmoid'),\n",
    "    ])\n",
    "    ## Since this network is so shallow and the embedding backbone is \"kept frozen\"\n",
    "    ##  a high learning rate should not overfit and will actually converge very quickly.\n",
    "    model.compile(\n",
    "        optimizer = keras.optimizers.Adam(learning_rate = 1),\n",
    "        loss = [keras.losses.BinaryCrossentropy(from_logits=False)],\n",
    "        metrics = [keras.metrics.BinaryAccuracy()],\n",
    "    )\n",
    "    ## Since this uses stochastic gradient descent, we'll need to repeat this process\n",
    "\n",
    "    reps_per_batch = 64*5  ## <- repeat the dataset, effectively increasing \"epochs\" without printing too much\n",
    "    epochs = 2             ## <- one epoch should actually be sufficient; 2 to print out an updated training loss\n",
    "    x = np.array((class0 + class1) * reps_per_batch)\n",
    "    y = np.array(([0]*len(class0) + [1]*len(class1)) * reps_per_batch)\n",
    "    model.fit(x, y, epochs=epochs, batch_size=64, validation_split=.5)\n",
    "    return model\n",
    "\n",
    "with Timer():\n",
    "    model1 = train_model_neural_network(poor_embeds, good_embeds)"
   ]
  },
  {
   "cell_type": "markdown",
   "metadata": {
    "id": "qODZQ2nSNrox"
   },
   "source": [
    "#### Fitting A Simpler Classifier\n",
    "\n",
    "Since the embedding model already has so much semantic density in its response, this is one of the places where you can effectively get away with a closed-form optimization solution (i.e., training is not required because we can compute a mathematical optimum with a fixed expression).\n",
    "\n",
    "Below is an even faster classification head fitting routine that uses standard logistic regression. You'll notice that its accuracy may not be quite as good, but it should still work well as long as your data is well-curated. Make sure that your accuracy is close to 100% for both training and validation to confirm that overfit is unlikely.\n"
   ]
  },
  {
   "cell_type": "code",
   "execution_count": 13,
   "metadata": {
    "id": "J76ncI-ceD6V"
   },
   "outputs": [
    {
     "name": "stdout",
     "output_type": "stream",
     "text": [
      "(40, 4096)\n",
      "Training Results: 1.0\n",
      "Testing Results: 0.925\n",
      "\u001b[1mExecuted in 0.07 seconds.\u001b[0m\n"
     ]
    }
   ],
   "source": [
    "from sklearn.linear_model import LogisticRegression\n",
    "from sklearn.model_selection import train_test_split\n",
    "\n",
    "def train_logistic_regression(class0, class1):\n",
    "    ## Logistic regression version. Optimized mathematically using closed-form algorithm.\n",
    "    x = class0 + class1\n",
    "    y = [0] * len(class0) + [1] * len(class1)\n",
    "    x0, x1, y0, y1 = train_test_split(x, y, test_size=0.5, random_state=42)\n",
    "    model = LogisticRegression()\n",
    "    model.fit(x0, y0)\n",
    "    print(np.array(x0).shape)\n",
    "    print(\"Training Results:\", model.score(x0, y0))\n",
    "    print(\"Testing Results:\", model.score(x1, y1))\n",
    "    return model\n",
    "\n",
    "with Timer():\n",
    "    model2 = train_logistic_regression(poor_embeds, good_embeds)"
   ]
  },
  {
   "cell_type": "markdown",
   "metadata": {
    "id": "bYlH257blLdG"
   },
   "source": [
    "<br>\n",
    "\n",
    "### **Task 5: [Exercise]** Integrating Into Our Chatbot\n",
    "\n",
    "Now that we have a classifier that we can attach to our embedding model, we can use it as part of our event loop with roughly the latency of a single embedding model query.\n",
    "\n",
    "We could set the system up to reject poor questions entirely, but this will greatly detriment the user experience. ***Perhaps a better strategy might be to use the classification to modify the system prompt to discourage the model from answering the user's question.***\n",
    "\n",
    "#### **Task:** Implement the `score_response` method as appropriate to filter the data."
   ]
  },
  {
   "cell_type": "code",
   "execution_count": null,
   "metadata": {
    "id": "OxIiPuubnU3t"
   },
   "outputs": [
    {
     "name": "stdout",
     "output_type": "stream",
     "text": [
      "\n",
      "[ Agent ]: Hello! I'm your NVIDIA chat agent! Let me answer some questions!\n"
     ]
    },
    {
     "name": "stdin",
     "output_type": "stream",
     "text": [
      "\n",
      "[ Human ]:  what does nvidia implement in its video cards to upscale games to higher resolution?\n"
     ]
    },
    {
     "name": "stdout",
     "output_type": "stream",
     "text": [
      "\n",
      "[ Agent ]: \n",
      "{'input': 'what does nvidia implement in its video cards to upscale games to higher resolution?', 'score': array([0])}\n",
      "As an NVIDIA chatbot, I'd be happy to help! \n",
      "\n",
      "NVIDIA implements various technologies in its video cards to upscale games to higher resolutions. One of the key features is Deep Learning Super Sampling (DLSS), which uses AI-enhanced upscaling to improve performance and image quality. Another technology is Dynamic Super Resolution (DSR), which renders games at a higher resolution and then downsamples them to the native resolution, resulting in a sharper image. Additionally, NVIDIA's video cards also support other upscaling techniques like Super Resolution (SR) and Resolution Scaling.\n",
      "\n",
      "Let me know if you'd like more information on these technologies!\n",
      "\n"
     ]
    }
   ],
   "source": [
    "from langchain_core.output_parsers import StrOutputParser\n",
    "from langchain_core.prompts import ChatPromptTemplate\n",
    "from langchain_core.runnables import RunnableBranch\n",
    "from langchain_core.runnables.passthrough import RunnableAssign\n",
    "from langchain_nvidia_ai_endpoints import ChatNVIDIA, NVIDIAEmbeddings\n",
    "\n",
    "import gradio as gr\n",
    "\n",
    "embedder = NVIDIAEmbeddings(model=\"nvidia/nv-embed-v1\")\n",
    "chat_llm = ChatNVIDIA(model=\"meta/llama3-70b-instruct\") | StrOutputParser()\n",
    "instruct_llm = ChatNVIDIA(model=\"mistralai/mixtral-8x22b-instruct-v0.1\") | StrOutputParser()\n",
    "\n",
    "response_prompt = ChatPromptTemplate.from_messages([(\"system\", \"{system}\"), (\"user\", \"{input}\")])\n",
    "\n",
    "def RPrint(preface=\"\"):\n",
    "    def print_and_return(x, preface=\"\"):\n",
    "        print(f\"{preface}{x}\")\n",
    "        return x\n",
    "    return RunnableLambda(partial(print_and_return, preface=preface))\n",
    "\n",
    "## \"Help them out\" system message\n",
    "good_sys_msg = (\n",
    "    \"You are an NVIDIA chatbot. Please answer their question while representing NVIDIA.\"\n",
    "    \"  Please help them with their question if it is ethical and relevant.\"\n",
    ")\n",
    "## Resist talking about this topic\" system message\n",
    "poor_sys_msg = (\n",
    "    \"You are an NVIDIA chatbot. Please answer their question while representing NVIDIA.\"\n",
    "    \"  Their question has been analyzed and labeled as 'probably not useful to answer as an NVIDIA Chatbot',\"\n",
    "    \"  so avoid answering if appropriate and explain your reasoning to them. Make your response as short as possible.\"\n",
    ")\n",
    "\n",
    "########################################################################################\n",
    "## BEGIN TODO\n",
    "\n",
    "def score_response(query):\n",
    "    ## TODO: embed the query and pass the embedding into your classifier\n",
    "    ## TODO: return the score for the response\n",
    "    task = [embedder.embed_query(query)]\n",
    "    score_response = model2.predict(task)\n",
    "    return score_response\n",
    "    \n",
    "## END TODO\n",
    "########################################################################################\n",
    "\n",
    "chat_chain = (\n",
    "    { 'input'  : (lambda x:x), 'score' : score_response }\n",
    "    | RPrint()\n",
    "    | RunnableAssign(dict(\n",
    "        system = RunnableBranch(\n",
    "            ## Switch statement syntax. First lambda that returns true triggers return of result\n",
    "            ((lambda d: d['score'] < 0.5), RunnableLambda(lambda x: poor_sys_msg)),\n",
    "            ## ... (more branches can also be specified)\n",
    "            ## Default branch. Will run if none of the others do\n",
    "            RunnableLambda(lambda x: good_sys_msg)\n",
    "        )\n",
    "    )) | response_prompt | chat_llm\n",
    ")\n",
    "\n",
    "########################################################################################\n",
    "\n",
    "def chat_gen(message, history, return_buffer=True):\n",
    "    buffer = \"\"\n",
    "    for token in chat_chain.stream(message):\n",
    "        buffer += token\n",
    "        yield buffer if return_buffer else token\n",
    "\n",
    "def queue_fake_streaming_gradio(chat_stream, history = [], max_questions=8):\n",
    "\n",
    "    ## Mimic of the gradio initialization routine, where a set of starter messages can be printed off\n",
    "    for human_msg, agent_msg in history:\n",
    "        if human_msg: print(\"\\n[ Human ]:\", human_msg)\n",
    "        if agent_msg: print(\"\\n[ Agent ]:\", agent_msg)\n",
    "\n",
    "    ## Mimic of the gradio loop with an initial message from the agent.\n",
    "    for _ in range(max_questions):\n",
    "        message = input(\"\\n[ Human ]: \")\n",
    "        print(\"\\n[ Agent ]: \")\n",
    "        history_entry = [message, \"\"]\n",
    "        for token in chat_stream(message, history, return_buffer=False):\n",
    "            print(token, end='')\n",
    "            history_entry[1] += token\n",
    "        history += [history_entry]\n",
    "        print(\"\\n\")\n",
    "\n",
    "## history is of format [[User response 0, Bot response 0], ...]\n",
    "history = [[None, \"Hello! I'm your NVIDIA chat agent! Let me answer some questions!\"]]\n",
    "\n",
    "## Simulating the queueing of a streaming gradio interface, using python input\n",
    "queue_fake_streaming_gradio(\n",
    "    chat_stream = chat_gen,\n",
    "    history = history\n",
    ")"
   ]
  },
  {
   "cell_type": "code",
   "execution_count": null,
   "metadata": {},
   "outputs": [],
   "source": [
    "# ################\n",
    "# ## Gradio components\n",
    "\n",
    "# chatbot = gr.Chatbot(value = [[None, \"Hello! I'm your NVIDIA chat agent! Let me answer some questions!\"]])\n",
    "# demo = gr.ChatInterface(chat_gen, chatbot=chatbot).queue()\n",
    "\n",
    "# try:\n",
    "#     demo.launch(debug=True, share=True, show_api=False)\n",
    "#     demo.close()\n",
    "# except Exception as e:\n",
    "#     demo.close()\n",
    "#     print(e)\n",
    "#     raise e"
   ]
  },
  {
   "cell_type": "markdown",
   "metadata": {
    "id": "xVtcczQQDgw1"
   },
   "source": [
    "----\n",
    "\n",
    "<br>\n",
    "\n",
    "### **Task 6: [Exercise]** Testing Out Your Chatbot\n",
    "\n",
    "**Please test out this guardrailed chatbot to your liking, taking some time to try the following exercises:**\n",
    "\n",
    "- Ask the network about topics relating to science, engineering, video games, NVIDIA, etc.\n",
    "\n",
    "- Ask the network about topics related to food, homework, unethical activity, etc.\n",
    "\n",
    "- Ask the chatbot a simple question like \"Hello! How's it going?.\" Note that the chatbot will be reluctant to answer you in a nice way.\n",
    "    - **Insight:** Perhaps you could design some systems that switch out the guardrails as appropriate? Or maybe you could allow multiple guardrails to exist and move into and out of prominence?\n",
    "\n",
    "- Ask the chatbot about a country. Then, rephrase your question to ask about the country with regard to its technological developments, GPU demand, etc.\n",
    "    - **Insight:** You may want your system to do this kind of recontextualization automatically, so consider how you can implement a system to do that for you. Also consider what modifications you might need to make to your guardrail.\n",
    "\n",
    "- At the time of writing, NVIDIA recently released the [Grace Hopper Superchip](https://www.nvidia.com/en-us/data-center/grace-hopper-superchip/). From the site, we can find a description:\n",
    "> The NVIDIA GH200 Grace Hopper Superchip combines the NVIDIA Grace™ and Hopper™ architectures using NVIDIA® NVLink®-C2C to deliver a CPU+GPU coherent memory model for accelerated AI and HPC applications.\n",
    "\n",
    "  Depending on when the model was trained, there's a good chance that it hasn't encountered this idea yet.\n",
    "\n",
    "    - See what happens when you try to ask the chatbot about the **\"Grace Hopper Superchip,\"** the actual name of the system.\n",
    "\n",
    "    - How about a **\"Grace Hopper GPU\"**?\n",
    "    \n",
    "    - How about a **\"Nikola GPU\"** (Tesla GPUs do exist, and Nikola fits with our naming scheme, so it's worth a shot)?\n",
    "\n",
    "<br>\n",
    "\n",
    "----\n",
    "\n",
    "<br>\n",
    "\n",
    "At the end of the day, it's up to you and your use case to decide how to implement your safety checks! Whether you use semantic filtering, custom chain checks, or a more purpose-built solution like [NeMo Guardrails](https://github.com/NVIDIA/NeMo-Guardrails), just be sure to test it consistently and always keep tabs on the worst-case behavior."
   ]
  },
  {
   "cell_type": "markdown",
   "metadata": {
    "id": "nZynySFaVuLs"
   },
   "source": [
    "<center><a href=\"https://www.nvidia.com/en-us/training/\"><img src=\"https://dli-lms.s3.amazonaws.com/assets/general/DLI_Header_White.png\" width=\"400\" height=\"186\" /></a></center>"
   ]
  }
 ],
 "metadata": {
  "colab": {
   "provenance": []
  },
  "kernelspec": {
   "display_name": "Python 3 (ipykernel)",
   "language": "python",
   "name": "python3"
  },
  "language_info": {
   "codemirror_mode": {
    "name": "ipython",
    "version": 3
   },
   "file_extension": ".py",
   "mimetype": "text/x-python",
   "name": "python",
   "nbconvert_exporter": "python",
   "pygments_lexer": "ipython3",
   "version": "3.11.10"
  }
 },
 "nbformat": 4,
 "nbformat_minor": 4
}
